{
 "cells": [
  {
   "cell_type": "code",
   "execution_count": 77,
   "metadata": {},
   "outputs": [],
   "source": [
    "import pandas as pd\n",
    "import matplotlib.pyplot as plt\n",
    "import seaborn as sns\n",
    "import numpy as np\n",
    "import re\n",
    "from nltk.corpus import stopwords\n",
    "from nltk.tokenize import word_tokenize\n",
    "import matplotlib.pyplot as plt"
   ]
  },
  {
   "cell_type": "code",
   "execution_count": 78,
   "metadata": {},
   "outputs": [
    {
     "data": {
      "text/html": [
       "<div>\n",
       "<style scoped>\n",
       "    .dataframe tbody tr th:only-of-type {\n",
       "        vertical-align: middle;\n",
       "    }\n",
       "\n",
       "    .dataframe tbody tr th {\n",
       "        vertical-align: top;\n",
       "    }\n",
       "\n",
       "    .dataframe thead th {\n",
       "        text-align: right;\n",
       "    }\n",
       "</style>\n",
       "<table border=\"1\" class=\"dataframe\">\n",
       "  <thead>\n",
       "    <tr style=\"text-align: right;\">\n",
       "      <th></th>\n",
       "      <th>Artist</th>\n",
       "      <th>Url_spotify</th>\n",
       "      <th>Track</th>\n",
       "      <th>Album</th>\n",
       "      <th>Album_type</th>\n",
       "      <th>Uri</th>\n",
       "      <th>Danceability</th>\n",
       "      <th>Energy</th>\n",
       "      <th>Key</th>\n",
       "      <th>Loudness</th>\n",
       "      <th>...</th>\n",
       "      <th>Url_youtube</th>\n",
       "      <th>Title</th>\n",
       "      <th>Channel</th>\n",
       "      <th>Views</th>\n",
       "      <th>Likes</th>\n",
       "      <th>Comments</th>\n",
       "      <th>Description</th>\n",
       "      <th>Licensed</th>\n",
       "      <th>official_video</th>\n",
       "      <th>Stream</th>\n",
       "    </tr>\n",
       "  </thead>\n",
       "  <tbody>\n",
       "    <tr>\n",
       "      <th>0</th>\n",
       "      <td>Gorillaz</td>\n",
       "      <td>https://open.spotify.com/artist/3AA28KZvwAUcZu...</td>\n",
       "      <td>Feel Good Inc.</td>\n",
       "      <td>Demon Days</td>\n",
       "      <td>album</td>\n",
       "      <td>spotify:track:0d28khcov6AiegSCpG5TuT</td>\n",
       "      <td>0.818</td>\n",
       "      <td>0.705</td>\n",
       "      <td>6.0</td>\n",
       "      <td>-6.679</td>\n",
       "      <td>...</td>\n",
       "      <td>https://www.youtube.com/watch?v=HyHNuVaZJ-k</td>\n",
       "      <td>Gorillaz - Feel Good Inc. (Official Video)</td>\n",
       "      <td>Gorillaz</td>\n",
       "      <td>693555221.0</td>\n",
       "      <td>6220896.0</td>\n",
       "      <td>169907.0</td>\n",
       "      <td>Official HD Video for Gorillaz' fantastic trac...</td>\n",
       "      <td>True</td>\n",
       "      <td>True</td>\n",
       "      <td>1.040235e+09</td>\n",
       "    </tr>\n",
       "  </tbody>\n",
       "</table>\n",
       "<p>1 rows × 27 columns</p>\n",
       "</div>"
      ],
      "text/plain": [
       "     Artist                                        Url_spotify  \\\n",
       "0  Gorillaz  https://open.spotify.com/artist/3AA28KZvwAUcZu...   \n",
       "\n",
       "            Track       Album Album_type  \\\n",
       "0  Feel Good Inc.  Demon Days      album   \n",
       "\n",
       "                                    Uri  Danceability  Energy  Key  Loudness  \\\n",
       "0  spotify:track:0d28khcov6AiegSCpG5TuT         0.818   0.705  6.0    -6.679   \n",
       "\n",
       "   ...                                  Url_youtube  \\\n",
       "0  ...  https://www.youtube.com/watch?v=HyHNuVaZJ-k   \n",
       "\n",
       "                                        Title   Channel        Views  \\\n",
       "0  Gorillaz - Feel Good Inc. (Official Video)  Gorillaz  693555221.0   \n",
       "\n",
       "       Likes  Comments                                        Description  \\\n",
       "0  6220896.0  169907.0  Official HD Video for Gorillaz' fantastic trac...   \n",
       "\n",
       "  Licensed official_video        Stream  \n",
       "0     True           True  1.040235e+09  \n",
       "\n",
       "[1 rows x 27 columns]"
      ]
     },
     "execution_count": 78,
     "metadata": {},
     "output_type": "execute_result"
    }
   ],
   "source": [
    "df = pd.read_csv('Spotify_Youtuben.csv')\n",
    "df.head(1)"
   ]
  },
  {
   "cell_type": "code",
   "execution_count": 79,
   "metadata": {},
   "outputs": [
    {
     "data": {
      "text/html": [
       "<div>\n",
       "<style scoped>\n",
       "    .dataframe tbody tr th:only-of-type {\n",
       "        vertical-align: middle;\n",
       "    }\n",
       "\n",
       "    .dataframe tbody tr th {\n",
       "        vertical-align: top;\n",
       "    }\n",
       "\n",
       "    .dataframe thead th {\n",
       "        text-align: right;\n",
       "    }\n",
       "</style>\n",
       "<table border=\"1\" class=\"dataframe\">\n",
       "  <thead>\n",
       "    <tr style=\"text-align: right;\">\n",
       "      <th></th>\n",
       "      <th>Artist</th>\n",
       "      <th>Track</th>\n",
       "      <th>Album</th>\n",
       "      <th>Album_type</th>\n",
       "      <th>Danceability</th>\n",
       "      <th>Energy</th>\n",
       "      <th>Loudness</th>\n",
       "      <th>Speechiness</th>\n",
       "      <th>Acousticness</th>\n",
       "      <th>Instrumentalness</th>\n",
       "      <th>...</th>\n",
       "      <th>Tempo</th>\n",
       "      <th>Duration_ms</th>\n",
       "      <th>Title</th>\n",
       "      <th>Channel</th>\n",
       "      <th>Views</th>\n",
       "      <th>Likes</th>\n",
       "      <th>Comments</th>\n",
       "      <th>Licensed</th>\n",
       "      <th>official_video</th>\n",
       "      <th>Stream</th>\n",
       "    </tr>\n",
       "  </thead>\n",
       "  <tbody>\n",
       "    <tr>\n",
       "      <th>0</th>\n",
       "      <td>Gorillaz</td>\n",
       "      <td>Feel Good Inc.</td>\n",
       "      <td>Demon Days</td>\n",
       "      <td>album</td>\n",
       "      <td>0.818</td>\n",
       "      <td>0.705</td>\n",
       "      <td>-6.679</td>\n",
       "      <td>0.177</td>\n",
       "      <td>0.00836</td>\n",
       "      <td>0.00233</td>\n",
       "      <td>...</td>\n",
       "      <td>138.559</td>\n",
       "      <td>222640.0</td>\n",
       "      <td>Gorillaz - Feel Good Inc. (Official Video)</td>\n",
       "      <td>Gorillaz</td>\n",
       "      <td>693555221.0</td>\n",
       "      <td>6220896.0</td>\n",
       "      <td>169907.0</td>\n",
       "      <td>True</td>\n",
       "      <td>True</td>\n",
       "      <td>1.040235e+09</td>\n",
       "    </tr>\n",
       "  </tbody>\n",
       "</table>\n",
       "<p>1 rows × 22 columns</p>\n",
       "</div>"
      ],
      "text/plain": [
       "     Artist           Track       Album Album_type  Danceability  Energy  \\\n",
       "0  Gorillaz  Feel Good Inc.  Demon Days      album         0.818   0.705   \n",
       "\n",
       "   Loudness  Speechiness  Acousticness  Instrumentalness  ...    Tempo  \\\n",
       "0    -6.679        0.177       0.00836           0.00233  ...  138.559   \n",
       "\n",
       "   Duration_ms                                       Title   Channel  \\\n",
       "0     222640.0  Gorillaz - Feel Good Inc. (Official Video)  Gorillaz   \n",
       "\n",
       "         Views      Likes  Comments  Licensed  official_video        Stream  \n",
       "0  693555221.0  6220896.0  169907.0      True            True  1.040235e+09  \n",
       "\n",
       "[1 rows x 22 columns]"
      ]
     },
     "execution_count": 79,
     "metadata": {},
     "output_type": "execute_result"
    }
   ],
   "source": [
    "# Eliminate unnecessary columns from the dataset for our analysis by removing Url_spotify, Uri, Key, Url_youtube, and \n",
    "# Description.\n",
    "\n",
    "# Remove unnecessary columns\n",
    "columns_to_remove = ['Url_spotify', 'Uri', 'Key', 'Url_youtube', 'Description']\n",
    "df = df.drop(columns=columns_to_remove)\n",
    "\n",
    "# Print the cleaned dataset\n",
    "df.head(1)"
   ]
  },
  {
   "cell_type": "code",
   "execution_count": 80,
   "metadata": {},
   "outputs": [
    {
     "name": "stdout",
     "output_type": "stream",
     "text": [
      "Index(['Artist', 'Track', 'Album', 'Album_type', 'Danceability', 'Energy',\n",
      "       'Loudness', 'Speechiness', 'Acousticness', 'Instrumentalness',\n",
      "       'Liveness', 'Valence', 'Tempo', 'Duration_ms', 'Title', 'Channel',\n",
      "       'Views', 'Likes', 'Comments', 'Licensed', 'official_video', 'Stream'],\n",
      "      dtype='object')\n"
     ]
    }
   ],
   "source": [
    "print(df.columns)"
   ]
  },
  {
   "cell_type": "code",
   "execution_count": 81,
   "metadata": {},
   "outputs": [
    {
     "name": "stdout",
     "output_type": "stream",
     "text": [
      "Artist              0\n",
      "Track               0\n",
      "Album               0\n",
      "Album_type          0\n",
      "Danceability        0\n",
      "Energy              0\n",
      "Loudness            0\n",
      "Speechiness         0\n",
      "Acousticness        0\n",
      "Instrumentalness    0\n",
      "Liveness            0\n",
      "Valence             0\n",
      "Tempo               0\n",
      "Duration_ms         0\n",
      "Title               0\n",
      "Channel             0\n",
      "Views               0\n",
      "Likes               0\n",
      "Comments            0\n",
      "Licensed            0\n",
      "official_video      0\n",
      "Stream              0\n",
      "dtype: int64\n"
     ]
    }
   ],
   "source": [
    "# Examine the dataset for the presence of null values and calculate the total count of null values for each column, \n",
    "# providing insights into the data's completeness and potential data quality issues.\n",
    "\n",
    "# Fill missing values in numeric columns with mean\n",
    "numeric_cols = ['Danceability', 'Energy', 'Loudness', 'Speechiness', 'Acousticness',\n",
    "                'Instrumentalness', 'Liveness', 'Valence', 'Tempo', 'Duration_ms',\n",
    "                'Views', 'Likes', 'Comments']\n",
    "df[numeric_cols] = df[numeric_cols].fillna(df[numeric_cols].mean())\n",
    "\n",
    "# Fill missing values in categorical columns with mode\n",
    "categorical_cols = ['Artist', 'Track', 'Album', 'Album_type', 'Title', 'Channel',\n",
    "                    'Licensed', 'official_video', 'Stream']\n",
    "df[categorical_cols] = df[categorical_cols].fillna(df[categorical_cols].mode().iloc[0])\n",
    "\n",
    "# Drop rows with remaining null values\n",
    "df = df.dropna()\n",
    "\n",
    "# Print the count of null values after handling missing values\n",
    "print(df.isnull().sum())\n"
   ]
  },
  {
   "cell_type": "code",
   "execution_count": 82,
   "metadata": {},
   "outputs": [
    {
     "name": "stdout",
     "output_type": "stream",
     "text": [
      "Count of duplicate records: 5\n",
      "Count of duplicate records after removing duplicates: 0\n"
     ]
    }
   ],
   "source": [
    "# Identify and eliminate duplicate records in the dataset while retaining the first occurrence of each unique value. \n",
    "# This ensures data integrity by removing redundant information and maintaining the original data structure.\n",
    "\n",
    "# Print the count of duplicate records\n",
    "print(\"Count of duplicate records:\", df.duplicated().sum())\n",
    "\n",
    "# Drop duplicate records while retaining the first occurrence\n",
    "df.drop_duplicates(keep='first', inplace=True)\n",
    "\n",
    "# Print the count of duplicate records after removing duplicates\n",
    "print(\"Count of duplicate records after removing duplicates:\", df.duplicated().sum())"
   ]
  },
  {
   "cell_type": "code",
   "execution_count": 83,
   "metadata": {},
   "outputs": [
    {
     "name": "stdout",
     "output_type": "stream",
     "text": [
      "Index(['Artist', 'Track', 'Album', 'Album_type', 'Danceability', 'Energy',\n",
      "       'Loudness', 'Speechiness', 'Acousticness', 'Instrumentalness',\n",
      "       'Liveness', 'Valence', 'Tempo', 'Duration_ms', 'Title', 'Channel',\n",
      "       'Views', 'Likes', 'Comments', 'Licensed', 'official_video', 'Stream'],\n",
      "      dtype='object')\n"
     ]
    }
   ],
   "source": [
    "print(df.columns)"
   ]
  },
  {
   "cell_type": "code",
   "execution_count": 84,
   "metadata": {},
   "outputs": [
    {
     "data": {
      "text/plain": [
       "0    3.710667\n",
       "1    3.336217\n",
       "2    3.585833\n",
       "3    3.897783\n",
       "4    5.682000\n",
       "Name: Duration_min, dtype: float64"
      ]
     },
     "execution_count": 84,
     "metadata": {},
     "output_type": "execute_result"
    }
   ],
   "source": [
    "# Convert the duration in milliseconds to minutes, facilitating a clearer comprehension and representation of time \n",
    "# intervals in a more user-friendly format.\n",
    "\n",
    "# Convert duration from milliseconds to minutes\n",
    "df['Duration_min'] = df['Duration_ms'] / 60000\n",
    "\n",
    "# Print the updated DataFrame\n",
    "df['Duration_min'].head()"
   ]
  },
  {
   "cell_type": "code",
   "execution_count": 85,
   "metadata": {},
   "outputs": [
    {
     "name": "stdout",
     "output_type": "stream",
     "text": [
      "Index(['Artist', 'Track', 'Album', 'Album_type', 'Danceability', 'Energy',\n",
      "       'Loudness', 'Speechiness', 'Acousticness', 'Instrumentalness',\n",
      "       'Liveness', 'Valence', 'Tempo', 'Duration_ms', 'Title', 'Channel',\n",
      "       'Views', 'Likes', 'Comments', 'Licensed', 'official_video', 'Stream',\n",
      "       'Duration_min'],\n",
      "      dtype='object')\n"
     ]
    }
   ],
   "source": [
    "print(df.columns)"
   ]
  },
  {
   "cell_type": "code",
   "execution_count": 86,
   "metadata": {},
   "outputs": [
    {
     "data": {
      "text/html": [
       "<div>\n",
       "<style scoped>\n",
       "    .dataframe tbody tr th:only-of-type {\n",
       "        vertical-align: middle;\n",
       "    }\n",
       "\n",
       "    .dataframe tbody tr th {\n",
       "        vertical-align: top;\n",
       "    }\n",
       "\n",
       "    .dataframe thead th {\n",
       "        text-align: right;\n",
       "    }\n",
       "</style>\n",
       "<table border=\"1\" class=\"dataframe\">\n",
       "  <thead>\n",
       "    <tr style=\"text-align: right;\">\n",
       "      <th></th>\n",
       "      <th>Artist</th>\n",
       "      <th>Track</th>\n",
       "      <th>Album</th>\n",
       "      <th>Album_type</th>\n",
       "      <th>Danceability</th>\n",
       "      <th>Energy</th>\n",
       "      <th>Loudness</th>\n",
       "      <th>Speechiness</th>\n",
       "      <th>Acousticness</th>\n",
       "      <th>Instrumentalness</th>\n",
       "      <th>...</th>\n",
       "      <th>Duration_ms</th>\n",
       "      <th>Title</th>\n",
       "      <th>Channel</th>\n",
       "      <th>Views</th>\n",
       "      <th>Likes</th>\n",
       "      <th>Comments</th>\n",
       "      <th>Licensed</th>\n",
       "      <th>official_video</th>\n",
       "      <th>Stream</th>\n",
       "      <th>Duration_min</th>\n",
       "    </tr>\n",
       "  </thead>\n",
       "  <tbody>\n",
       "    <tr>\n",
       "      <th>0</th>\n",
       "      <td>Gorillaz</td>\n",
       "      <td>Feel Good Inc.</td>\n",
       "      <td>Demon Days</td>\n",
       "      <td>album</td>\n",
       "      <td>0.818</td>\n",
       "      <td>0.705</td>\n",
       "      <td>-6.679</td>\n",
       "      <td>0.177</td>\n",
       "      <td>0.00836</td>\n",
       "      <td>0.00233</td>\n",
       "      <td>...</td>\n",
       "      <td>222640.0</td>\n",
       "      <td>Gorillaz - Feel Good Inc. (Official Video)</td>\n",
       "      <td>Gorillaz</td>\n",
       "      <td>693555221.0</td>\n",
       "      <td>6220896.0</td>\n",
       "      <td>169907.0</td>\n",
       "      <td>True</td>\n",
       "      <td>True</td>\n",
       "      <td>1.040235e+09</td>\n",
       "      <td>3.710667</td>\n",
       "    </tr>\n",
       "  </tbody>\n",
       "</table>\n",
       "<p>1 rows × 23 columns</p>\n",
       "</div>"
      ],
      "text/plain": [
       "     Artist           Track       Album Album_type  Danceability  Energy  \\\n",
       "0  Gorillaz  Feel Good Inc.  Demon Days      album         0.818   0.705   \n",
       "\n",
       "   Loudness  Speechiness  Acousticness  Instrumentalness  ...  Duration_ms  \\\n",
       "0    -6.679        0.177       0.00836           0.00233  ...     222640.0   \n",
       "\n",
       "                                        Title   Channel        Views  \\\n",
       "0  Gorillaz - Feel Good Inc. (Official Video)  Gorillaz  693555221.0   \n",
       "\n",
       "       Likes  Comments  Licensed  official_video        Stream  Duration_min  \n",
       "0  6220896.0  169907.0      True            True  1.040235e+09      3.710667  \n",
       "\n",
       "[1 rows x 23 columns]"
      ]
     },
     "execution_count": 86,
     "metadata": {},
     "output_type": "execute_result"
    }
   ],
   "source": [
    "# Eliminate track names that are deemed irrelevant and begin with the \"?\" character, ensuring the dataset only \n",
    "# includes relevant and meaningful track information for further analysis or processing.\n",
    "\n",
    "# Filter out rows with track names that begin with \"?\"\n",
    "df = df[~df['Track'].str.startswith('?')]\n",
    "\n",
    "# Print the updated DataFrame\n",
    "df.head(1)"
   ]
  },
  {
   "cell_type": "code",
   "execution_count": 87,
   "metadata": {},
   "outputs": [
    {
     "data": {
      "text/html": [
       "<div>\n",
       "<style scoped>\n",
       "    .dataframe tbody tr th:only-of-type {\n",
       "        vertical-align: middle;\n",
       "    }\n",
       "\n",
       "    .dataframe tbody tr th {\n",
       "        vertical-align: top;\n",
       "    }\n",
       "\n",
       "    .dataframe thead th {\n",
       "        text-align: right;\n",
       "    }\n",
       "</style>\n",
       "<table border=\"1\" class=\"dataframe\">\n",
       "  <thead>\n",
       "    <tr style=\"text-align: right;\">\n",
       "      <th></th>\n",
       "      <th>Artist</th>\n",
       "      <th>Track</th>\n",
       "      <th>Album</th>\n",
       "      <th>Album_type</th>\n",
       "      <th>Danceability</th>\n",
       "      <th>Energy</th>\n",
       "      <th>Loudness</th>\n",
       "      <th>Speechiness</th>\n",
       "      <th>Acousticness</th>\n",
       "      <th>Instrumentalness</th>\n",
       "      <th>...</th>\n",
       "      <th>Title</th>\n",
       "      <th>Channel</th>\n",
       "      <th>Views</th>\n",
       "      <th>Likes</th>\n",
       "      <th>Comments</th>\n",
       "      <th>Licensed</th>\n",
       "      <th>official_video</th>\n",
       "      <th>Stream</th>\n",
       "      <th>Duration_min</th>\n",
       "      <th>EnergyLiveness</th>\n",
       "    </tr>\n",
       "  </thead>\n",
       "  <tbody>\n",
       "    <tr>\n",
       "      <th>0</th>\n",
       "      <td>Gorillaz</td>\n",
       "      <td>Feel Good Inc.</td>\n",
       "      <td>Demon Days</td>\n",
       "      <td>album</td>\n",
       "      <td>0.818</td>\n",
       "      <td>0.705</td>\n",
       "      <td>-6.679</td>\n",
       "      <td>0.177</td>\n",
       "      <td>0.00836</td>\n",
       "      <td>0.00233</td>\n",
       "      <td>...</td>\n",
       "      <td>Gorillaz - Feel Good Inc. (Official Video)</td>\n",
       "      <td>Gorillaz</td>\n",
       "      <td>693555221.0</td>\n",
       "      <td>6220896.0</td>\n",
       "      <td>169907.0</td>\n",
       "      <td>True</td>\n",
       "      <td>True</td>\n",
       "      <td>1.040235e+09</td>\n",
       "      <td>3.710667</td>\n",
       "      <td>1.150082</td>\n",
       "    </tr>\n",
       "  </tbody>\n",
       "</table>\n",
       "<p>1 rows × 24 columns</p>\n",
       "</div>"
      ],
      "text/plain": [
       "     Artist           Track       Album Album_type  Danceability  Energy  \\\n",
       "0  Gorillaz  Feel Good Inc.  Demon Days      album         0.818   0.705   \n",
       "\n",
       "   Loudness  Speechiness  Acousticness  Instrumentalness  ...  \\\n",
       "0    -6.679        0.177       0.00836           0.00233  ...   \n",
       "\n",
       "                                        Title   Channel        Views  \\\n",
       "0  Gorillaz - Feel Good Inc. (Official Video)  Gorillaz  693555221.0   \n",
       "\n",
       "       Likes  Comments Licensed  official_video        Stream  Duration_min  \\\n",
       "0  6220896.0  169907.0     True            True  1.040235e+09      3.710667   \n",
       "\n",
       "   EnergyLiveness  \n",
       "0        1.150082  \n",
       "\n",
       "[1 rows x 24 columns]"
      ]
     },
     "execution_count": 87,
     "metadata": {},
     "output_type": "execute_result"
    }
   ],
   "source": [
    "# Compute the Energy to Liveness ratio for each track, quantifying the relationship between energy and liveliness attributes.\n",
    "# The resulting ratios are then stored in a column named 'EnergyLiveness' for further analysis or interpretation.\n",
    "\n",
    "# Compute the Energy to Liveness ratio\n",
    "df['EnergyLiveness'] = df['Energy'] / df['Liveness']\n",
    "\n",
    "# Print the updated DataFrame\n",
    "df.head(1)"
   ]
  },
  {
   "cell_type": "code",
   "execution_count": 88,
   "metadata": {},
   "outputs": [
    {
     "data": {
      "text/html": [
       "<div>\n",
       "<style scoped>\n",
       "    .dataframe tbody tr th:only-of-type {\n",
       "        vertical-align: middle;\n",
       "    }\n",
       "\n",
       "    .dataframe tbody tr th {\n",
       "        vertical-align: top;\n",
       "    }\n",
       "\n",
       "    .dataframe thead th {\n",
       "        text-align: right;\n",
       "    }\n",
       "</style>\n",
       "<table border=\"1\" class=\"dataframe\">\n",
       "  <thead>\n",
       "    <tr style=\"text-align: right;\">\n",
       "      <th></th>\n",
       "      <th>Artist</th>\n",
       "      <th>Track</th>\n",
       "      <th>Album</th>\n",
       "      <th>Album_type</th>\n",
       "      <th>Danceability</th>\n",
       "      <th>Energy</th>\n",
       "      <th>Loudness</th>\n",
       "      <th>Speechiness</th>\n",
       "      <th>Acousticness</th>\n",
       "      <th>Instrumentalness</th>\n",
       "      <th>...</th>\n",
       "      <th>Title</th>\n",
       "      <th>Channel</th>\n",
       "      <th>Views</th>\n",
       "      <th>Likes</th>\n",
       "      <th>Comments</th>\n",
       "      <th>Licensed</th>\n",
       "      <th>official_video</th>\n",
       "      <th>Stream</th>\n",
       "      <th>Duration_min</th>\n",
       "      <th>EnergyLiveness</th>\n",
       "    </tr>\n",
       "  </thead>\n",
       "  <tbody>\n",
       "    <tr>\n",
       "      <th>0</th>\n",
       "      <td>Gorillaz</td>\n",
       "      <td>Feel Good Inc.</td>\n",
       "      <td>Demon Days</td>\n",
       "      <td>album</td>\n",
       "      <td>0.818</td>\n",
       "      <td>0.705</td>\n",
       "      <td>-6.679</td>\n",
       "      <td>0.177</td>\n",
       "      <td>0.00836</td>\n",
       "      <td>0.00233</td>\n",
       "      <td>...</td>\n",
       "      <td>Gorillaz - Feel Good Inc. (Official Video)</td>\n",
       "      <td>Gorillaz</td>\n",
       "      <td>693555221.0</td>\n",
       "      <td>6220896.0</td>\n",
       "      <td>169907.0</td>\n",
       "      <td>True</td>\n",
       "      <td>True</td>\n",
       "      <td>1.040235e+09</td>\n",
       "      <td>3.710667</td>\n",
       "      <td>1.150082</td>\n",
       "    </tr>\n",
       "  </tbody>\n",
       "</table>\n",
       "<p>1 rows × 24 columns</p>\n",
       "</div>"
      ],
      "text/plain": [
       "     Artist           Track       Album Album_type  Danceability  Energy  \\\n",
       "0  Gorillaz  Feel Good Inc.  Demon Days      album         0.818   0.705   \n",
       "\n",
       "   Loudness  Speechiness  Acousticness  Instrumentalness  ...  \\\n",
       "0    -6.679        0.177       0.00836           0.00233  ...   \n",
       "\n",
       "                                        Title   Channel        Views  \\\n",
       "0  Gorillaz - Feel Good Inc. (Official Video)  Gorillaz  693555221.0   \n",
       "\n",
       "       Likes  Comments Licensed  official_video        Stream  Duration_min  \\\n",
       "0  6220896.0  169907.0     True            True  1.040235e+09      3.710667   \n",
       "\n",
       "   EnergyLiveness  \n",
       "0        1.150082  \n",
       "\n",
       "[1 rows x 24 columns]"
      ]
     },
     "execution_count": 88,
     "metadata": {},
     "output_type": "execute_result"
    }
   ],
   "source": [
    "# Modify the data type of the 'views' column to float, enabling numerical operations and facilitating its utilization \n",
    "# in subsequent analysis or calculations requiring floating-point values.\n",
    "\n",
    "# Modify the data type of the 'Views' column to float\n",
    "df['Views'] = df['Views'].astype(float)\n",
    "\n",
    "# Print the updated DataFrame with the modified data type\n",
    "df.head(1)"
   ]
  },
  {
   "cell_type": "code",
   "execution_count": 89,
   "metadata": {},
   "outputs": [
    {
     "data": {
      "text/html": [
       "<div>\n",
       "<style scoped>\n",
       "    .dataframe tbody tr th:only-of-type {\n",
       "        vertical-align: middle;\n",
       "    }\n",
       "\n",
       "    .dataframe tbody tr th {\n",
       "        vertical-align: top;\n",
       "    }\n",
       "\n",
       "    .dataframe thead th {\n",
       "        text-align: right;\n",
       "    }\n",
       "</style>\n",
       "<table border=\"1\" class=\"dataframe\">\n",
       "  <thead>\n",
       "    <tr style=\"text-align: right;\">\n",
       "      <th></th>\n",
       "      <th>Artist</th>\n",
       "      <th>Track</th>\n",
       "      <th>Album</th>\n",
       "      <th>Album_type</th>\n",
       "      <th>Danceability</th>\n",
       "      <th>Energy</th>\n",
       "      <th>Loudness</th>\n",
       "      <th>Speechiness</th>\n",
       "      <th>Acousticness</th>\n",
       "      <th>Instrumentalness</th>\n",
       "      <th>...</th>\n",
       "      <th>Channel</th>\n",
       "      <th>Views</th>\n",
       "      <th>Likes</th>\n",
       "      <th>Comments</th>\n",
       "      <th>Licensed</th>\n",
       "      <th>official_video</th>\n",
       "      <th>Stream</th>\n",
       "      <th>Duration_min</th>\n",
       "      <th>EnergyLiveness</th>\n",
       "      <th>most_playedon</th>\n",
       "    </tr>\n",
       "  </thead>\n",
       "  <tbody>\n",
       "    <tr>\n",
       "      <th>0</th>\n",
       "      <td>Gorillaz</td>\n",
       "      <td>Feel Good Inc.</td>\n",
       "      <td>Demon Days</td>\n",
       "      <td>album</td>\n",
       "      <td>0.818</td>\n",
       "      <td>0.705</td>\n",
       "      <td>-6.679</td>\n",
       "      <td>0.177</td>\n",
       "      <td>0.00836</td>\n",
       "      <td>0.00233</td>\n",
       "      <td>...</td>\n",
       "      <td>Gorillaz</td>\n",
       "      <td>693555221.0</td>\n",
       "      <td>6220896.0</td>\n",
       "      <td>169907.0</td>\n",
       "      <td>True</td>\n",
       "      <td>True</td>\n",
       "      <td>1.040235e+09</td>\n",
       "      <td>3.710667</td>\n",
       "      <td>1.150082</td>\n",
       "      <td>Spotify</td>\n",
       "    </tr>\n",
       "  </tbody>\n",
       "</table>\n",
       "<p>1 rows × 25 columns</p>\n",
       "</div>"
      ],
      "text/plain": [
       "     Artist           Track       Album Album_type  Danceability  Energy  \\\n",
       "0  Gorillaz  Feel Good Inc.  Demon Days      album         0.818   0.705   \n",
       "\n",
       "   Loudness  Speechiness  Acousticness  Instrumentalness  ...   Channel  \\\n",
       "0    -6.679        0.177       0.00836           0.00233  ...  Gorillaz   \n",
       "\n",
       "         Views      Likes  Comments Licensed official_video        Stream  \\\n",
       "0  693555221.0  6220896.0  169907.0     True           True  1.040235e+09   \n",
       "\n",
       "   Duration_min  EnergyLiveness  most_playedon  \n",
       "0      3.710667        1.150082        Spotify  \n",
       "\n",
       "[1 rows x 25 columns]"
      ]
     },
     "execution_count": 89,
     "metadata": {},
     "output_type": "execute_result"
    }
   ],
   "source": [
    "# Analyze the 'views' and 'stream' columns to determine the dominant platform (YouTube or Spotify) on which a song \n",
    "# track was most played. Create a new column called 'most_playedon' with values 'Spotify' or 'YouTube' indicating \n",
    "# the platform with the highest play count for each song track.\n",
    "\n",
    "# Create a new column 'most_playedon' indicating the dominant platform\n",
    "df['most_playedon'] = ''\n",
    "df.loc[df['Views'] > df['Stream'], 'most_playedon'] = 'YouTube'\n",
    "df.loc[df['Views'] < df['Stream'], 'most_playedon'] = 'Spotify'\n",
    "\n",
    "# Print the updated DataFrame with the 'most_playedon' column\n",
    "df.head(1)"
   ]
  },
  {
   "cell_type": "code",
   "execution_count": 90,
   "metadata": {},
   "outputs": [
    {
     "name": "stdout",
     "output_type": "stream",
     "text": [
      "Index(['Artist', 'Track', 'Album', 'Album_type', 'Danceability', 'Energy',\n",
      "       'Loudness', 'Speechiness', 'Acousticness', 'Instrumentalness',\n",
      "       'Liveness', 'Valence', 'Tempo', 'Duration_ms', 'Title', 'Channel',\n",
      "       'Views', 'Likes', 'Comments', 'Licensed', 'official_video', 'Stream',\n",
      "       'Duration_min', 'EnergyLiveness', 'most_playedon'],\n",
      "      dtype='object')\n"
     ]
    }
   ],
   "source": [
    "print(df.columns)"
   ]
  },
  {
   "cell_type": "code",
   "execution_count": 91,
   "metadata": {},
   "outputs": [],
   "source": [
    "# Identify duplicate records based on all columns\n",
    "duplicates = df.duplicated(keep='first')\n",
    "\n",
    "# Filter the dataset to retain only the first occurrence of each unique value\n",
    "df = df[~duplicates]"
   ]
  },
  {
   "cell_type": "code",
   "execution_count": 92,
   "metadata": {},
   "outputs": [
    {
     "name": "stdout",
     "output_type": "stream",
     "text": [
      "The most viewed song track on YouTube is: Despacito\n"
     ]
    }
   ],
   "source": [
    "# Which is the most viewed song track on youtube?\n",
    "\n",
    "# Filter the DataFrame to include only tracks played on YouTube\n",
    "df_youtube = df[df['most_playedon'] == 'YouTube']\n",
    "\n",
    "# Sort the YouTube DataFrame by 'Views' column in descending order\n",
    "df_youtube_sorted = df_youtube.sort_values(by='Views', ascending=False)\n",
    "\n",
    "# Retrieve the most viewed song track on YouTube\n",
    "most_viewed_track = df_youtube_sorted.iloc[0]['Track']\n",
    "\n",
    "# Print the most viewed song track on YouTube\n",
    "print(\"The most viewed song track on YouTube is:\", most_viewed_track)"
   ]
  },
  {
   "cell_type": "code",
   "execution_count": 93,
   "metadata": {},
   "outputs": [
    {
     "name": "stdout",
     "output_type": "stream",
     "text": [
      "The most streamed song track on Spotify is: Blinding Lights\n"
     ]
    }
   ],
   "source": [
    "# Which Song track is streamed most on Spotify?\n",
    "\n",
    "# Filter the DataFrame to include only tracks streamed on Spotify\n",
    "df_spotify = df[df['most_playedon'] == 'Spotify']\n",
    "\n",
    "# Sort the Spotify DataFrame by 'Stream' column in descending order\n",
    "df_spotify_sorted = df_spotify.sort_values(by='Stream', ascending=False)\n",
    "\n",
    "# Retrieve the most streamed song track on Spotify\n",
    "most_streamed_track = df_spotify_sorted.iloc[0]['Track']\n",
    "\n",
    "# Print the most streamed song track on Spotify\n",
    "print(\"The most streamed song track on Spotify is:\", most_streamed_track)"
   ]
  },
  {
   "cell_type": "code",
   "execution_count": 94,
   "metadata": {},
   "outputs": [
    {
     "name": "stdout",
     "output_type": "stream",
     "text": [
      "Top 5 songs with the highest EnergyLiveness ratio:\n",
      "                                    Track  EnergyLiveness\n",
      "20636                             Take It       59.113924\n",
      "11694                         Verano Azul       58.000000\n",
      "8844                           Salvavidas       57.655172\n",
      "6555                        Ants Marching       54.522293\n",
      "12253  Eres Mi Sueño - Versión Radio Edit       51.381215\n"
     ]
    }
   ],
   "source": [
    "# EnergyLiveness ratio is one of the popular ways to measure the quality of a song, \n",
    "# which are the top 5 songs that have the highest energyliveness ratio.\n",
    "\n",
    "# Sort the DataFrame by 'EnergyLiveness' column in descending order\n",
    "df_sorted_ratio = df.sort_values(by='EnergyLiveness', ascending=False)\n",
    "\n",
    "# Get the top 5 songs with the highest EnergyLiveness ratio\n",
    "top_5_ratio_songs = df_sorted_ratio.head(5)\n",
    "\n",
    "# Print the top 5 songs with the highest EnergyLiveness ratio\n",
    "print(\"Top 5 songs with the highest EnergyLiveness ratio:\")\n",
    "print(top_5_ratio_songs[['Track', 'EnergyLiveness']])"
   ]
  },
  {
   "cell_type": "code",
   "execution_count": 95,
   "metadata": {},
   "outputs": [
    {
     "data": {
      "image/png": "[encoded data removed]",
      "text/plain": [
       "<Figure size 432x288 with 1 Axes>"
      ]
     },
     "metadata": {
      "needs_background": "light"
     },
     "output_type": "display_data"
    }
   ],
   "source": [
    "# Let us assume a situation where an artist named Black Eyed Peas wants to analyze his songs. \n",
    "# The artist wants to know which platform is capable of keeping his song track more engaged. \n",
    "# To check this he assigns you this task and wants you to report to him where his song tracks are more played on. \n",
    "# Compare the platforms.\n",
    "\n",
    "# Filter the DataFrame for Black Eyed Peas' song tracks\n",
    "df_artist = df[df['Artist'] == 'Black Eyed Peas']\n",
    "\n",
    "# Calculate the total views and streams for each platform\n",
    "total_views_spotify = df_artist[df_artist['most_playedon'] == 'Spotify']['Views'].sum()\n",
    "total_streams_spotify = df_artist[df_artist['most_playedon'] == 'Spotify']['Stream'].sum()\n",
    "\n",
    "total_views_youtube = df_artist[df_artist['most_playedon'] == 'YouTube']['Views'].sum()\n",
    "total_streams_youtube = df_artist[df_artist['most_playedon'] == 'YouTube']['Stream'].sum()\n",
    "\n",
    "# Create a stacked bar graph to compare the engagement on different platforms\n",
    "platforms = ['Spotify', 'YouTube']\n",
    "views = [total_views_spotify, total_views_youtube]\n",
    "streams = [total_streams_spotify, total_streams_youtube]\n",
    "\n",
    "plt.bar(platforms, views, label='Views')\n",
    "plt.bar(platforms, streams, bottom=views, label='Streams')\n",
    "\n",
    "plt.xlabel('Platform')\n",
    "plt.ylabel('Count')\n",
    "plt.title(\"Engagement of Black Eyed Peas' Song Tracks on Different Platforms\")\n",
    "plt.legend()\n",
    "plt.show()"
   ]
  },
  {
   "cell_type": "code",
   "execution_count": 96,
   "metadata": {},
   "outputs": [
    {
     "name": "stdout",
     "output_type": "stream",
     "text": [
      "Gorillaz's most liked song on YouTube is: Feel Good Inc.\n",
      "Energy: 0.705\n",
      "Tempo: 138.559\n"
     ]
    }
   ],
   "source": [
    "# Gorillaz wants to know their most liked song on youtube. \n",
    "# Report to them with their most liked song along with the Energy and Tempo of the song.\n",
    "\n",
    "# Filter the DataFrame for Gorillaz's songs\n",
    "df_gorillaz = df[df['Artist'] == 'Gorillaz']\n",
    "\n",
    "# Sort the DataFrame by 'Likes' column in descending order\n",
    "df_gorillaz_sorted = df_gorillaz.sort_values(by='Likes', ascending=False)\n",
    "\n",
    "# Retrieve the most liked song and its corresponding Energy and Tempo\n",
    "most_liked_song = df_gorillaz_sorted.iloc[0]['Track']\n",
    "energy = df_gorillaz_sorted.iloc[0]['Energy']\n",
    "tempo = df_gorillaz_sorted.iloc[0]['Tempo']\n",
    "\n",
    "# Print the most liked song and its Energy and Tempo\n",
    "print(\"Gorillaz's most liked song on YouTube is:\", most_liked_song)\n",
    "print(\"Energy:\", energy)\n",
    "print(\"Tempo:\", tempo)"
   ]
  },
  {
   "cell_type": "code",
   "execution_count": 97,
   "metadata": {},
   "outputs": [
    {
     "name": "stdout",
     "output_type": "stream",
     "text": [
      "album          11841\n",
      "single          3509\n",
      "compilation      578\n",
      "Name: Album_type, dtype: int64\n"
     ]
    }
   ],
   "source": [
    "# Which Album types are more prominent on Spotify?\n",
    "\n",
    "# Filter the DataFrame for songs on Spotify\n",
    "df_spotify = df[df['most_playedon'] == 'Spotify']\n",
    "\n",
    "# Count the occurrences of each album type\n",
    "album_type_counts = df_spotify['Album_type'].value_counts()\n",
    "\n",
    "# Sort the album type counts in descending order\n",
    "album_type_counts = album_type_counts.sort_values(ascending=False)\n",
    "\n",
    "# Print the distribution of album types\n",
    "print(album_type_counts)"
   ]
  },
  {
   "cell_type": "code",
   "execution_count": 98,
   "metadata": {},
   "outputs": [
    {
     "name": "stdout",
     "output_type": "stream",
     "text": [
      "                                    Track  Total_Views_Streams\n",
      "1150                            Despacito         9.586248e+09\n",
      "367                             Despacito         9.586245e+09\n",
      "12455                        Shape of You         9.270404e+09\n",
      "14585  See You Again (feat. Charlie Puth)         7.295053e+09\n",
      "12472  See You Again (feat. Charlie Puth)         7.295052e+09\n"
     ]
    }
   ],
   "source": [
    "# Spotify's most loved song tracks are to be declared soon. \n",
    "# Help Spotify choose the top 5 most streamed+youtube viewed song track.\n",
    "\n",
    "# Assuming your DataFrame is stored in a variable called 'df'\n",
    "\n",
    "# Calculate the combined views and streams for each song track\n",
    "df['Total_Views_Streams'] = df['Views'] + df['Stream']\n",
    "\n",
    "# Sort the DataFrame by the combined views and streams in descending order\n",
    "df_sorted = df.sort_values(by='Total_Views_Streams', ascending=False)\n",
    "\n",
    "# Retrieve the top 5 most streamed and YouTube viewed song tracks\n",
    "top_5_tracks = df_sorted.head(5)\n",
    "\n",
    "# Print the top 5 tracks\n",
    "print(top_5_tracks[['Track', 'Total_Views_Streams']])"
   ]
  }
 ],
 "metadata": {
  "kernelspec": {
   "display_name": "Python 3",
   "language": "python",
   "name": "python3"
  },
  "language_info": {
   "codemirror_mode": {
    "name": "ipython",
    "version": 3
   },
   "file_extension": ".py",
   "mimetype": "text/x-python",
   "name": "python",
   "nbconvert_exporter": "python",
   "pygments_lexer": "ipython3",
   "version": "3.8.5"
  }
 },
 "nbformat": 4,
 "nbformat_minor": 4
}
