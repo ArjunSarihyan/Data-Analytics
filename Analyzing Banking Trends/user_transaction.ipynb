{
 "cells": [
  {
   "cell_type": "code",
   "execution_count": 5,
   "id": "8b6c555a",
   "metadata": {},
   "outputs": [],
   "source": [
    "import pandas as pd"
   ]
  },
  {
   "cell_type": "code",
   "execution_count": 6,
   "id": "c99d692c",
   "metadata": {},
   "outputs": [
    {
     "name": "stdout",
     "output_type": "stream",
     "text": [
      "<class 'pandas.core.frame.DataFrame'>\n",
      "RangeIndex: 5947 entries, 0 to 5946\n",
      "Data columns (total 6 columns):\n",
      " #   Column           Non-Null Count  Dtype \n",
      "---  ------           --------------  ----- \n",
      " 0   id_              5947 non-null   int64 \n",
      " 1   t_date           5947 non-null   object\n",
      " 2   t_type           5947 non-null   object\n",
      " 3   t_amt            5947 non-null   int64 \n",
      " 4   has_credit_card  5947 non-null   object\n",
      " 5   account_type     5947 non-null   object\n",
      "dtypes: int64(2), object(4)\n",
      "memory usage: 278.9+ KB\n"
     ]
    }
   ],
   "source": [
    "# Read the user_transactions.csv\n",
    "df = pd.read_csv('user_transactions.csv')\n",
    "df.info()"
   ]
  },
  {
   "cell_type": "code",
   "execution_count": 7,
   "id": "a6be8516",
   "metadata": {},
   "outputs": [
    {
     "name": "stdout",
     "output_type": "stream",
     "text": [
      "Null Value Counts:\n",
      "id_                0\n",
      "t_date             0\n",
      "t_type             0\n",
      "t_amt              0\n",
      "has_credit_card    0\n",
      "account_type       0\n",
      "dtype: int64\n",
      "\n",
      "DataFrame after removing rows with null values:\n",
      "      id_      t_date   t_type  t_amt has_credit_card account_type\n",
      "0     312  20-01-2020  deposit    485             Yes      Savings\n",
      "1     376  03-01-2020  deposit    706              No      Current\n",
      "2     188  13-01-2020  deposit    601              No      Savings\n",
      "3     138  11-01-2020  deposit    520              No       Salary\n",
      "4     373  18-01-2020  deposit    596              No       Salary\n",
      "...   ...         ...      ...    ...             ...          ...\n",
      "5942  281  06-01-2020  deposit    616             Yes      Current\n",
      "5943  391  15-01-2020  deposit    219             Yes      Current\n",
      "5944   45  14-01-2020  deposit    650              No      Current\n",
      "5945   49  04-01-2020  deposit    432              No      Savings\n",
      "5946  473  17-01-2020  deposit    657              No      Current\n",
      "\n",
      "[5947 rows x 6 columns]\n"
     ]
    }
   ],
   "source": [
    "# Check for null values in the DataFrame\n",
    "null_counts = df.isnull().sum()\n",
    "print(\"Null Value Counts:\")\n",
    "print(null_counts)\n",
    "\n",
    "# Remove rows with null values\n",
    "df = df.dropna()\n",
    "\n",
    "# Display the cleaned DataFrame\n",
    "print(\"\\nDataFrame after removing rows with null values:\")\n",
    "print(df)"
   ]
  },
  {
   "cell_type": "code",
   "execution_count": 8,
   "id": "d35918d5",
   "metadata": {},
   "outputs": [
    {
     "name": "stdout",
     "output_type": "stream",
     "text": [
      "Duplicate Rows Count: 79\n",
      "\n",
      "DataFrame after removing duplicates:\n",
      "      id_      t_date   t_type  t_amt has_credit_card account_type\n",
      "0     312  20-01-2020  deposit    485             Yes      Savings\n",
      "1     376  03-01-2020  deposit    706              No      Current\n",
      "2     188  13-01-2020  deposit    601              No      Savings\n",
      "3     138  11-01-2020  deposit    520              No       Salary\n",
      "4     373  18-01-2020  deposit    596              No       Salary\n",
      "...   ...         ...      ...    ...             ...          ...\n",
      "5863  155  10-01-2020  deposit    712             Yes      Savings\n",
      "5864  398  01-01-2020  deposit    196              No      Current\n",
      "5865  255  14-01-2020  deposit    563             Yes      Savings\n",
      "5866  185  29-01-2020  deposit    626             Yes      Savings\n",
      "5867  309  13-01-2020  deposit    995             Yes      Savings\n",
      "\n",
      "[5868 rows x 6 columns]\n"
     ]
    }
   ],
   "source": [
    "# Check for duplicate rows in the DataFrame\n",
    "duplicate_count = df.duplicated().sum()\n",
    "print(\"Duplicate Rows Count:\", duplicate_count)\n",
    "\n",
    "# Remove duplicate rows\n",
    "df = df.drop_duplicates()\n",
    "\n",
    "# Display the cleaned DataFrame\n",
    "print(\"\\nDataFrame after removing duplicates:\")\n",
    "print(df)"
   ]
  },
  {
   "cell_type": "code",
   "execution_count": 9,
   "id": "20772619",
   "metadata": {},
   "outputs": [
    {
     "name": "stdout",
     "output_type": "stream",
     "text": [
      "Cleaned DataFrame:\n",
      "      consumer_id transaction_date transaction_type  transaction_amount\n",
      "0             312       20-01-2020          deposit                 485\n",
      "1             376       03-01-2020          deposit                 706\n",
      "2             188       13-01-2020          deposit                 601\n",
      "3             138       11-01-2020          deposit                 520\n",
      "4             373       18-01-2020          deposit                 596\n",
      "...           ...              ...              ...                 ...\n",
      "5863          155       10-01-2020          deposit                 712\n",
      "5864          398       01-01-2020          deposit                 196\n",
      "5865          255       14-01-2020          deposit                 563\n",
      "5866          185       29-01-2020          deposit                 626\n",
      "5867          309       13-01-2020          deposit                 995\n",
      "\n",
      "[5868 rows x 4 columns]\n",
      "\n",
      "Data has been cleaned and saved as 'user_transaction_cleaned.csv'\n"
     ]
    }
   ],
   "source": [
    "# Data Cleaning\n",
    "# Step 1: Eliminate specified columns\n",
    "columns_to_remove = [\"has_credit_card\", \"account_type\"]\n",
    "df = df.drop(columns=columns_to_remove)\n",
    "\n",
    "# Step 2: Rename columns\n",
    "df = df.rename(columns={\n",
    "    \"id_\": \"consumer_id\",\n",
    "    \"t_date\": \"transaction_date\",\n",
    "    \"t_type\": \"transaction_type\",\n",
    "    \"t_amt\": \"transaction_amount\"\n",
    "})\n",
    "\n",
    "# Step 3: Save the cleaned DataFrame to a CSV file without the index column\n",
    "df.to_csv(\"user_transaction_cleaned.csv\", index=False)\n",
    "\n",
    "# Return the cleaned DataFrame for further analysis\n",
    "print(\"Cleaned DataFrame:\")\n",
    "print(df)\n",
    "\n",
    "print(\"\\nData has been cleaned and saved as 'user_transaction_cleaned.csv'\")"
   ]
  }
 ],
 "metadata": {
  "kernelspec": {
   "display_name": "Python 3 (ipykernel)",
   "language": "python",
   "name": "python3"
  },
  "language_info": {
   "codemirror_mode": {
    "name": "ipython",
    "version": 3
   },
   "file_extension": ".py",
   "mimetype": "text/x-python",
   "name": "python",
   "nbconvert_exporter": "python",
   "pygments_lexer": "ipython3",
   "version": "3.11.3"
  }
 },
 "nbformat": 4,
 "nbformat_minor": 5
}
