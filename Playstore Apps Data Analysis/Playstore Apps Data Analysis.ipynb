{
 "cells": [
  {
   "cell_type": "code",
   "execution_count": 152,
   "metadata": {},
   "outputs": [],
   "source": [
    "import pandas as pd\n",
    "import matplotlib.pyplot as plt\n",
    "import seaborn as sns\n",
    "import numpy as np\n",
    "import re\n",
    "from nltk.corpus import stopwords\n",
    "from nltk.tokenize import word_tokenize\n",
    "import matplotlib.pyplot as plt"
   ]
  },
  {
   "cell_type": "code",
   "execution_count": 153,
   "metadata": {},
   "outputs": [
    {
     "name": "stdout",
     "output_type": "stream",
     "text": [
      "Index(['App', 'Category', 'Rating', 'Reviews', 'Size', 'Installs', 'Type',\n",
      "       'Price', 'Content Rating', 'Genres', 'Last Updated', 'Current Ver',\n",
      "       'Android Ver'],\n",
      "      dtype='object')\n",
      "Index(['App', 'Translated_Review', 'Sentiment', 'Sentiment_Polarity',\n",
      "       'Sentiment_Subjectivity'],\n",
      "      dtype='object')\n"
     ]
    }
   ],
   "source": [
    "df_apps = pd.read_csv('playstore_apps.csv')\n",
    "print(df_apps.columns)\n",
    "df_reviews = pd.read_csv('playstore_reviews.csv')\n",
    "print(df_reviews.columns)"
   ]
  },
  {
   "cell_type": "code",
   "execution_count": 154,
   "metadata": {},
   "outputs": [
    {
     "name": "stdout",
     "output_type": "stream",
     "text": [
      "<class 'pandas.core.frame.DataFrame'>\n",
      "RangeIndex: 10841 entries, 0 to 10840\n",
      "Data columns (total 9 columns):\n",
      " #   Column          Non-Null Count  Dtype  \n",
      "---  ------          --------------  -----  \n",
      " 0   App             10841 non-null  object \n",
      " 1   Category        10841 non-null  object \n",
      " 2   Rating          9367 non-null   float64\n",
      " 3   Reviews         10840 non-null  float64\n",
      " 4   Installs        10840 non-null  float64\n",
      " 5   Type            10840 non-null  object \n",
      " 6   Price           10840 non-null  float64\n",
      " 7   Content Rating  10840 non-null  object \n",
      " 8   Genres          10841 non-null  object \n",
      "dtypes: float64(4), object(5)\n",
      "memory usage: 762.4+ KB\n"
     ]
    }
   ],
   "source": [
    "df_apps.drop(['Last Updated', 'Current Ver', 'Android Ver', 'Size'], axis=1, inplace=True)\n",
    "df_apps.info()"
   ]
  },
  {
   "cell_type": "code",
   "execution_count": 155,
   "metadata": {},
   "outputs": [
    {
     "name": "stdout",
     "output_type": "stream",
     "text": [
      "<class 'pandas.core.frame.DataFrame'>\n",
      "Int64Index: 10356 entries, 0 to 10840\n",
      "Data columns (total 9 columns):\n",
      " #   Column          Non-Null Count  Dtype  \n",
      "---  ------          --------------  -----  \n",
      " 0   App             10356 non-null  object \n",
      " 1   Category        10356 non-null  object \n",
      " 2   Rating          8891 non-null   float64\n",
      " 3   Reviews         10355 non-null  float64\n",
      " 4   Installs        10355 non-null  float64\n",
      " 5   Type            10355 non-null  object \n",
      " 6   Price           10355 non-null  float64\n",
      " 7   Content Rating  10355 non-null  object \n",
      " 8   Genres          10356 non-null  object \n",
      "dtypes: float64(4), object(5)\n",
      "memory usage: 809.1+ KB\n"
     ]
    }
   ],
   "source": [
    "# Remove duplicates from the dataset\n",
    "\n",
    "df_apps.drop_duplicates(inplace=True)\n",
    "df_apps.info()"
   ]
  },
  {
   "cell_type": "code",
   "execution_count": 156,
   "metadata": {},
   "outputs": [
    {
     "name": "stdout",
     "output_type": "stream",
     "text": [
      "<class 'pandas.core.frame.DataFrame'>\n",
      "Int64Index: 10356 entries, 0 to 10840\n",
      "Data columns (total 9 columns):\n",
      " #   Column          Non-Null Count  Dtype  \n",
      "---  ------          --------------  -----  \n",
      " 0   App             10356 non-null  object \n",
      " 1   Category        10356 non-null  object \n",
      " 2   Rating          10356 non-null  float64\n",
      " 3   Reviews         10356 non-null  float64\n",
      " 4   Installs        10356 non-null  float64\n",
      " 5   Type            10356 non-null  object \n",
      " 6   Price           10356 non-null  float64\n",
      " 7   Content Rating  10356 non-null  object \n",
      " 8   Genres          10356 non-null  object \n",
      "dtypes: float64(4), object(5)\n",
      "memory usage: 809.1+ KB\n"
     ]
    }
   ],
   "source": [
    "# Check for null values in the dataset\n",
    "null_values = df_apps.isnull().sum()\n",
    "\n",
    "# Iterate over each column\n",
    "for column in df_apps.columns:\n",
    "    # Check if the column has null values\n",
    "    if null_values[column] > 0:\n",
    "        # Check if the column data type is numeric\n",
    "        if pd.api.types.is_numeric_dtype(df_apps[column]):\n",
    "            # Replace null values with the mean of the column\n",
    "            df_apps[column].fillna(df_apps[column].mean(), inplace=True)\n",
    "        else:\n",
    "            # Replace null values with the most frequent value in the column\n",
    "            most_frequent_value = df_apps[column].mode().iloc[0]\n",
    "            df_apps[column].fillna(most_frequent_value, inplace=True)\n",
    "            \n",
    "df_apps.info()"
   ]
  },
  {
   "cell_type": "code",
   "execution_count": 157,
   "metadata": {},
   "outputs": [
    {
     "name": "stdout",
     "output_type": "stream",
     "text": [
      "Free    10356\n",
      "Name: Type, dtype: int64\n"
     ]
    }
   ],
   "source": [
    "# Keep the apps having type free or paid only. if there are any other values other than free or paid change them \n",
    "# to the type having the maximum count.\n",
    "\n",
    "# Get the unique values and their counts in the 'Type' column\n",
    "type_counts = df_apps['Type'].value_counts()\n",
    "\n",
    "# Get the type with the maximum count\n",
    "max_count_type = type_counts.idxmax()\n",
    "\n",
    "# Replace any other values in the 'Type' column with the maximum count type\n",
    "df_apps.loc[~df_apps['Type'].isin(['free', 'paid']), 'Type'] = max_count_type\n",
    "\n",
    "print(df_apps['Type'].value_counts())"
   ]
  },
  {
   "cell_type": "code",
   "execution_count": 158,
   "metadata": {},
   "outputs": [
    {
     "name": "stdout",
     "output_type": "stream",
     "text": [
      "<class 'pandas.core.frame.DataFrame'>\n",
      "Int64Index: 10326 entries, 0 to 10840\n",
      "Data columns (total 9 columns):\n",
      " #   Column          Non-Null Count  Dtype  \n",
      "---  ------          --------------  -----  \n",
      " 0   App             10326 non-null  object \n",
      " 1   Category        10326 non-null  object \n",
      " 2   Rating          10326 non-null  float64\n",
      " 3   Reviews         10326 non-null  float64\n",
      " 4   Installs        10326 non-null  float64\n",
      " 5   Type            10326 non-null  object \n",
      " 6   Price           10326 non-null  float64\n",
      " 7   Content Rating  10326 non-null  object \n",
      " 8   Genres          10326 non-null  object \n",
      "dtypes: float64(4), object(5)\n",
      "memory usage: 806.7+ KB\n"
     ]
    }
   ],
   "source": [
    "# Remove apps with irrelevent names starting with ?\n",
    "\n",
    "df_apps = df_apps[~df_apps['App'].str.startswith('?')]\n",
    "df_apps.info()"
   ]
  },
  {
   "cell_type": "code",
   "execution_count": 159,
   "metadata": {},
   "outputs": [
    {
     "name": "stdout",
     "output_type": "stream",
     "text": [
      "<class 'pandas.core.frame.DataFrame'>\n",
      "Int64Index: 64295 entries, 0 to 64294\n",
      "Data columns (total 5 columns):\n",
      " #   Column                  Non-Null Count  Dtype  \n",
      "---  ------                  --------------  -----  \n",
      " 0   App                     64295 non-null  object \n",
      " 1   Translated_Review       37427 non-null  object \n",
      " 2   Sentiment               37432 non-null  object \n",
      " 3   Sentiment_Polarity      37432 non-null  float64\n",
      " 4   Sentiment_Subjectivity  37432 non-null  float64\n",
      "dtypes: float64(2), object(3)\n",
      "memory usage: 2.9+ MB\n"
     ]
    }
   ],
   "source": [
    "# check for rows with the value 'nan' and remove the rows with the value 'nan'\n",
    "\n",
    "df_reviews = df_reviews.dropna(subset=['App'])\n",
    "df_reviews.info()"
   ]
  },
  {
   "cell_type": "code",
   "execution_count": 160,
   "metadata": {},
   "outputs": [
    {
     "name": "stdout",
     "output_type": "stream",
     "text": [
      "<class 'pandas.core.frame.DataFrame'>\n",
      "Int64Index: 37427 entries, 0 to 64230\n",
      "Data columns (total 5 columns):\n",
      " #   Column                  Non-Null Count  Dtype  \n",
      "---  ------                  --------------  -----  \n",
      " 0   App                     37427 non-null  object \n",
      " 1   Translated_Review       37427 non-null  object \n",
      " 2   Sentiment               37427 non-null  object \n",
      " 3   Sentiment_Polarity      37427 non-null  float64\n",
      " 4   Sentiment_Subjectivity  37427 non-null  float64\n",
      "dtypes: float64(2), object(3)\n",
      "memory usage: 1.7+ MB\n"
     ]
    }
   ],
   "source": [
    "# Remove rows with nan values in the  Reviews dataset\n",
    "\n",
    "# Remove rows with 'nan' values in the specified columns\n",
    "columns_with_nan = ['App', 'Translated_Review', 'Sentiment', 'Sentiment_Polarity', 'Sentiment_Subjectivity']\n",
    "df_reviews.dropna(subset=columns_with_nan, inplace=True)\n",
    "\n",
    "# Return the updated DataFrame\n",
    "df_reviews.info()"
   ]
  },
  {
   "cell_type": "code",
   "execution_count": 161,
   "metadata": {},
   "outputs": [
    {
     "name": "stdout",
     "output_type": "stream",
     "text": [
      "Index(['App', 'Translated_Review', 'Sentiment', 'Sentiment_Polarity',\n",
      "       'Sentiment_Subjectivity'],\n",
      "      dtype='object')\n",
      "Index(['App', 'Category', 'Rating', 'Reviews', 'Installs', 'Type', 'Price',\n",
      "       'Content Rating', 'Genres'],\n",
      "      dtype='object')\n"
     ]
    }
   ],
   "source": [
    "print(df_reviews.columns)\n",
    "print(df_apps.columns)"
   ]
  },
  {
   "cell_type": "code",
   "execution_count": 162,
   "metadata": {},
   "outputs": [
    {
     "name": "stdout",
     "output_type": "stream",
     "text": [
      "Top 10 Apps with Highest Rating:\n",
      "                                           App  Rating\n",
      "10472  Life Made WI-Fi Touchscreen Photo Frame    19.0\n",
      "7754                                 CricQuick     5.0\n",
      "6727                                 BS-Mobile     5.0\n",
      "7270                             CF Townsville     5.0\n",
      "6467                           BM SPM Practice     5.0\n",
      "5118                          Eternal Light AG     5.0\n",
      "9061                 Cloud DX Connected Health     5.0\n",
      "5238             Selfie With Champion AJ Style     5.0\n",
      "6726             COMSATS BOOK STORE FOR BS(CS)     5.0\n",
      "5108                      Lakeside AG Moultrie     5.0\n"
     ]
    }
   ],
   "source": [
    "# Which are the top 10 apps having the highest rating in the given available dataset?\n",
    "\n",
    "# Sort the DataFrame by 'Rating' column in descending order\n",
    "df_apps_sorted = df_apps.sort_values('Rating', ascending=False)\n",
    "\n",
    "# Get the top 10 apps with the highest rating\n",
    "top_10_apps = df_apps_sorted.head(10)\n",
    "\n",
    "# Print the top 10 apps\n",
    "print(\"Top 10 Apps with Highest Rating:\")\n",
    "print(top_10_apps[['App', 'Rating']])"
   ]
  },
  {
   "cell_type": "code",
   "execution_count": 163,
   "metadata": {},
   "outputs": [
    {
     "name": "stdout",
     "output_type": "stream",
     "text": [
      "Number of Installs and Reviews for Top 5 Most Reviewed Apps:\n",
      "                     App     Reviews      Installs\n",
      "2544            Facebook  78158306.0  1.000000e+09\n",
      "3943            Facebook  78128208.0  1.000000e+09\n",
      "336   WhatsApp Messenger  69119316.0  1.000000e+09\n",
      "3904  WhatsApp Messenger  69109672.0  1.000000e+09\n",
      "2604           Instagram  66577446.0  1.000000e+09\n"
     ]
    }
   ],
   "source": [
    "# What is the number of installs and reviews for the top 5 most reviewed apps?\n",
    "\n",
    "# Sort the DataFrame by 'Reviews' column in descending order\n",
    "df_apps = df_apps.sort_values('Reviews', ascending=False)\n",
    "\n",
    "# Get the top 5 most reviewed apps\n",
    "top_5_most_reviewed_apps = df_apps.head(5)\n",
    "\n",
    "# Extract the 'App', 'Reviews', and 'Installs' columns for the top 5 apps\n",
    "top_5_apps_info = top_5_most_reviewed_apps[['App', 'Reviews', 'Installs']]\n",
    "\n",
    "# Print the number of installs and reviews for the top 5 apps\n",
    "print(\"Number of Installs and Reviews for Top 5 Most Reviewed Apps:\")\n",
    "print(top_5_apps_info)"
   ]
  },
  {
   "cell_type": "code",
   "execution_count": 164,
   "metadata": {},
   "outputs": [
    {
     "name": "stdout",
     "output_type": "stream",
     "text": [
      "App with the Highest Number of Reviews:\n",
      "App Name: Facebook\n",
      "Number of Reviews: 78158306.0\n",
      "Category: SOCIAL\n"
     ]
    }
   ],
   "source": [
    "# Which app has the highest number of reviews? Also, mention the number of reviews and category of the app\n",
    "\n",
    "# Find the app with the highest number of reviews\n",
    "max_reviews_app = df_apps[df_apps['Reviews'] == df_apps['Reviews'].max()]\n",
    "\n",
    "# Extract the app name, number of reviews, and category\n",
    "app_name = max_reviews_app['App'].values[0]\n",
    "num_reviews = max_reviews_app['Reviews'].values[0]\n",
    "category = max_reviews_app['Category'].values[0]\n",
    "\n",
    "# Print the app with the highest number of reviews\n",
    "print(\"App with the Highest Number of Reviews:\")\n",
    "print(\"App Name:\", app_name)\n",
    "print(\"Number of Reviews:\", num_reviews)\n",
    "print(\"Category:\", category)"
   ]
  },
  {
   "cell_type": "code",
   "execution_count": 165,
   "metadata": {},
   "outputs": [
    {
     "name": "stdout",
     "output_type": "stream",
     "text": [
      "Total Revenue Generated by Google Play Store: 378069269.87493706\n"
     ]
    }
   ],
   "source": [
    "# What is the total amount of revenue generated by the google play store by hosting apps? \n",
    "# (Whenever a user buys apps  from the google play store, the amount is considered in the revenue)\n",
    "\n",
    "# Calculate the revenue for each app\n",
    "df_apps['Revenue'] = df_apps['Price'] * df_apps['Installs']\n",
    "\n",
    "# Calculate the total revenue generated by the Google Play Store\n",
    "total_revenue = df_apps['Revenue'].sum()\n",
    "\n",
    "# Print the total revenue\n",
    "print(\"Total Revenue Generated by Google Play Store:\", total_revenue)"
   ]
  },
  {
   "cell_type": "code",
   "execution_count": 166,
   "metadata": {},
   "outputs": [
    {
     "name": "stdout",
     "output_type": "stream",
     "text": [
      "Category with the Highest Number of Installs: GAME\n",
      "Total Installs for the Highest Category: 31493924415.0\n"
     ]
    }
   ],
   "source": [
    "# Which Category of google play store apps has the highest number of installs? \n",
    "# Also, find out the total number of installs for that particular category.\n",
    "\n",
    "# Group the apps by category and calculate the total number of installs for each category\n",
    "category_installs = df_apps.groupby('Category')['Installs'].sum()\n",
    "\n",
    "# Find the category with the highest number of installs\n",
    "category_with_highest_installs = category_installs.idxmax()\n",
    "\n",
    "# Find the total number of installs for the category with the highest installs\n",
    "total_installs_highest_category = category_installs.loc[category_with_highest_installs]\n",
    "\n",
    "# Print the category with the highest number of installs and the total number of installs for that category\n",
    "print(\"Category with the Highest Number of Installs:\", category_with_highest_installs)\n",
    "print(\"Total Installs for the Highest Category:\", total_installs_highest_category)"
   ]
  },
  {
   "cell_type": "code",
   "execution_count": 167,
   "metadata": {},
   "outputs": [
    {
     "name": "stdout",
     "output_type": "stream",
     "text": [
      "Genre with the Most Number of Published Apps: Tools\n",
      "Number of Apps in the Most Popular Genre: 839\n"
     ]
    }
   ],
   "source": [
    "# Which Genre has the most number of published apps?\n",
    "\n",
    "# Count the number of apps in each genre\n",
    "genre_counts = df_apps['Genres'].value_counts()\n",
    "\n",
    "# Find the genre with the most number of published apps\n",
    "genre_with_most_apps = genre_counts.idxmax()\n",
    "\n",
    "# Get the count of apps for the genre with the most apps\n",
    "most_apps_count = genre_counts.loc[genre_with_most_apps]\n",
    "\n",
    "# Print the genre with the most number of published apps and the count of apps\n",
    "print(\"Genre with the Most Number of Published Apps:\", genre_with_most_apps)\n",
    "print(\"Number of Apps in the Most Popular Genre:\", most_apps_count)"
   ]
  },
  {
   "cell_type": "code",
   "execution_count": 168,
   "metadata": {},
   "outputs": [
    {
     "data": {
      "text/html": [
       "<div>\n",
       "<style scoped>\n",
       "    .dataframe tbody tr th:only-of-type {\n",
       "        vertical-align: middle;\n",
       "    }\n",
       "\n",
       "    .dataframe tbody tr th {\n",
       "        vertical-align: top;\n",
       "    }\n",
       "\n",
       "    .dataframe thead th {\n",
       "        text-align: right;\n",
       "    }\n",
       "</style>\n",
       "<table border=\"1\" class=\"dataframe\">\n",
       "  <thead>\n",
       "    <tr style=\"text-align: right;\">\n",
       "      <th></th>\n",
       "      <th>App</th>\n",
       "      <th>Installs</th>\n",
       "    </tr>\n",
       "  </thead>\n",
       "  <tbody>\n",
       "    <tr>\n",
       "      <th>1872</th>\n",
       "      <td>Subway Surfers</td>\n",
       "      <td>1.000000e+09</td>\n",
       "    </tr>\n",
       "    <tr>\n",
       "      <th>1750</th>\n",
       "      <td>Subway Surfers</td>\n",
       "      <td>1.000000e+09</td>\n",
       "    </tr>\n",
       "    <tr>\n",
       "      <th>1700</th>\n",
       "      <td>Subway Surfers</td>\n",
       "      <td>1.000000e+09</td>\n",
       "    </tr>\n",
       "    <tr>\n",
       "      <th>1654</th>\n",
       "      <td>Subway Surfers</td>\n",
       "      <td>1.000000e+09</td>\n",
       "    </tr>\n",
       "    <tr>\n",
       "      <th>3896</th>\n",
       "      <td>Subway Surfers</td>\n",
       "      <td>1.000000e+09</td>\n",
       "    </tr>\n",
       "    <tr>\n",
       "      <th>...</th>\n",
       "      <td>...</td>\n",
       "      <td>...</td>\n",
       "    </tr>\n",
       "    <tr>\n",
       "      <th>10697</th>\n",
       "      <td>Mu.F.O.</td>\n",
       "      <td>1.000000e+00</td>\n",
       "    </tr>\n",
       "    <tr>\n",
       "      <th>5846</th>\n",
       "      <td>YAKALA AY</td>\n",
       "      <td>1.000000e+00</td>\n",
       "    </tr>\n",
       "    <tr>\n",
       "      <th>4218</th>\n",
       "      <td>D+H Reaction Wall</td>\n",
       "      <td>1.000000e+00</td>\n",
       "    </tr>\n",
       "    <tr>\n",
       "      <th>5917</th>\n",
       "      <td>Ra Ga Ba</td>\n",
       "      <td>1.000000e+00</td>\n",
       "    </tr>\n",
       "    <tr>\n",
       "      <th>6277</th>\n",
       "      <td>Bi-Tank Ads Free</td>\n",
       "      <td>1.000000e+00</td>\n",
       "    </tr>\n",
       "  </tbody>\n",
       "</table>\n",
       "<p>1119 rows × 2 columns</p>\n",
       "</div>"
      ],
      "text/plain": [
       "                     App      Installs\n",
       "1872      Subway Surfers  1.000000e+09\n",
       "1750      Subway Surfers  1.000000e+09\n",
       "1700      Subway Surfers  1.000000e+09\n",
       "1654      Subway Surfers  1.000000e+09\n",
       "3896      Subway Surfers  1.000000e+09\n",
       "...                  ...           ...\n",
       "10697            Mu.F.O.  1.000000e+00\n",
       "5846           YAKALA AY  1.000000e+00\n",
       "4218   D+H Reaction Wall  1.000000e+00\n",
       "5917            Ra Ga Ba  1.000000e+00\n",
       "6277    Bi-Tank Ads Free  1.000000e+00\n",
       "\n",
       "[1119 rows x 2 columns]"
      ]
     },
     "execution_count": 168,
     "metadata": {},
     "output_type": "execute_result"
    }
   ],
   "source": [
    "# Provide the list of all games ordered in such a way that the game that has the highest number of \n",
    "# installs is displayed on the top\n",
    "\n",
    "# Filter the dataset to include only games\n",
    "games_df = df_apps[df_apps['Category'] == 'GAME']\n",
    "\n",
    "# Sort the games by the number of installs in descending order\n",
    "sorted_games = games_df.sort_values(by='Installs', ascending=False)\n",
    "\n",
    "# Display the sorted games\n",
    "sorted_games[['App', 'Installs']]"
   ]
  },
  {
   "cell_type": "code",
   "execution_count": 169,
   "metadata": {},
   "outputs": [
    {
     "name": "stdout",
     "output_type": "stream",
     "text": [
      "Number of Free Apps: 10326\n",
      "Number of Paid Apps: 0\n"
     ]
    }
   ],
   "source": [
    "# How many apps from the given data set are free? Also, provide the number of paid apps.\n",
    "\n",
    "# Count the number of free apps\n",
    "num_free_apps = df_apps[df_apps['Type'] == 'Free'].shape[0]\n",
    "\n",
    "# Count the number of paid apps\n",
    "num_paid_apps = df_apps[df_apps['Type'] == 'Paid'].shape[0]\n",
    "\n",
    "# Print the results\n",
    "print(\"Number of Free Apps:\", num_free_apps)\n",
    "print(\"Number of Paid Apps:\", num_paid_apps)"
   ]
  },
  {
   "cell_type": "code",
   "execution_count": 170,
   "metadata": {},
   "outputs": [
    {
     "name": "stdout",
     "output_type": "stream",
     "text": [
      "The best dating app is: Zoosk Dating App: Meet Singles\n",
      "Number of reviews: 516917.0\n"
     ]
    }
   ],
   "source": [
    "# Which is the best dating app? (Best dating app is the one having the highest number of Reviews)\n",
    "\n",
    "# Filter the dataset to include only dating apps\n",
    "dating_apps_df = df_apps[df_apps['Category'] == 'DATING']\n",
    "\n",
    "# Find the app with the highest number of reviews\n",
    "best_dating_app = dating_apps_df.loc[dating_apps_df['Reviews'].idxmax()]\n",
    "\n",
    "# Display the name of the best dating app and its number of reviews\n",
    "best_dating_app_name = best_dating_app['App']\n",
    "best_dating_app_reviews = best_dating_app['Reviews']\n",
    "print(\"The best dating app is:\", best_dating_app_name)\n",
    "print(\"Number of reviews:\", best_dating_app_reviews)"
   ]
  },
  {
   "cell_type": "code",
   "execution_count": 171,
   "metadata": {},
   "outputs": [
    {
     "name": "stdout",
     "output_type": "stream",
     "text": [
      "Index(['App', 'Translated_Review', 'Sentiment', 'Sentiment_Polarity',\n",
      "       'Sentiment_Subjectivity'],\n",
      "      dtype='object')\n"
     ]
    }
   ],
   "source": [
    "print(df_reviews.columns)"
   ]
  },
  {
   "cell_type": "code",
   "execution_count": 172,
   "metadata": {},
   "outputs": [
    {
     "data": {
      "text/html": [
       "<div>\n",
       "<style scoped>\n",
       "    .dataframe tbody tr th:only-of-type {\n",
       "        vertical-align: middle;\n",
       "    }\n",
       "\n",
       "    .dataframe tbody tr th {\n",
       "        vertical-align: top;\n",
       "    }\n",
       "\n",
       "    .dataframe thead th {\n",
       "        text-align: right;\n",
       "    }\n",
       "</style>\n",
       "<table border=\"1\" class=\"dataframe\">\n",
       "  <thead>\n",
       "    <tr style=\"text-align: right;\">\n",
       "      <th></th>\n",
       "      <th>App</th>\n",
       "      <th>Translated_Review</th>\n",
       "      <th>Sentiment</th>\n",
       "      <th>Sentiment_Polarity</th>\n",
       "      <th>Sentiment_Subjectivity</th>\n",
       "    </tr>\n",
       "  </thead>\n",
       "  <tbody>\n",
       "    <tr>\n",
       "      <th>0</th>\n",
       "      <td>10 Best Foods for You</td>\n",
       "      <td>I like eat delicious food. That's I'm cooking ...</td>\n",
       "      <td>Positive</td>\n",
       "      <td>1.00</td>\n",
       "      <td>0.533333</td>\n",
       "    </tr>\n",
       "    <tr>\n",
       "      <th>1</th>\n",
       "      <td>10 Best Foods for You</td>\n",
       "      <td>This help eating healthy exercise regular basis</td>\n",
       "      <td>Positive</td>\n",
       "      <td>0.25</td>\n",
       "      <td>0.288462</td>\n",
       "    </tr>\n",
       "    <tr>\n",
       "      <th>3</th>\n",
       "      <td>10 Best Foods for You</td>\n",
       "      <td>Works great especially going grocery store</td>\n",
       "      <td>Positive</td>\n",
       "      <td>0.40</td>\n",
       "      <td>0.875000</td>\n",
       "    </tr>\n",
       "    <tr>\n",
       "      <th>4</th>\n",
       "      <td>10 Best Foods for You</td>\n",
       "      <td>Best idea us</td>\n",
       "      <td>Positive</td>\n",
       "      <td>1.00</td>\n",
       "      <td>0.300000</td>\n",
       "    </tr>\n",
       "    <tr>\n",
       "      <th>5</th>\n",
       "      <td>10 Best Foods for You</td>\n",
       "      <td>Best way</td>\n",
       "      <td>Positive</td>\n",
       "      <td>1.00</td>\n",
       "      <td>0.300000</td>\n",
       "    </tr>\n",
       "  </tbody>\n",
       "</table>\n",
       "</div>"
      ],
      "text/plain": [
       "                     App                                  Translated_Review  \\\n",
       "0  10 Best Foods for You  I like eat delicious food. That's I'm cooking ...   \n",
       "1  10 Best Foods for You    This help eating healthy exercise regular basis   \n",
       "3  10 Best Foods for You         Works great especially going grocery store   \n",
       "4  10 Best Foods for You                                       Best idea us   \n",
       "5  10 Best Foods for You                                           Best way   \n",
       "\n",
       "  Sentiment  Sentiment_Polarity  Sentiment_Subjectivity  \n",
       "0  Positive                1.00                0.533333  \n",
       "1  Positive                0.25                0.288462  \n",
       "3  Positive                0.40                0.875000  \n",
       "4  Positive                1.00                0.300000  \n",
       "5  Positive                1.00                0.300000  "
      ]
     },
     "execution_count": 172,
     "metadata": {},
     "output_type": "execute_result"
    }
   ],
   "source": [
    "df_reviews.head()"
   ]
  },
  {
   "cell_type": "code",
   "execution_count": 173,
   "metadata": {},
   "outputs": [
    {
     "name": "stdout",
     "output_type": "stream",
     "text": [
      "Unique sentiments: ['Positive' 'Neutral' 'Negative']\n"
     ]
    }
   ],
   "source": [
    "unique_sentiments = df_reviews['Sentiment'].unique()\n",
    "\n",
    "# Display the unique entries\n",
    "print(\"Unique sentiments:\", unique_sentiments)"
   ]
  },
  {
   "cell_type": "code",
   "execution_count": 174,
   "metadata": {},
   "outputs": [
    {
     "data": {
      "image/png": "[encoded data removed]",
      "text/plain": [
       "<Figure size 432x288 with 1 Axes>"
      ]
     },
     "metadata": {},
     "output_type": "display_data"
    },
    {
     "name": "stdout",
     "output_type": "stream",
     "text": [
      "Number of positive reviews: 162\n",
      "Number of negative reviews: 10\n"
     ]
    }
   ],
   "source": [
    "# Get the number of reviews having positive sentiment and the number of reviews having negative \n",
    "# sentiment for the app 10 best foods for You and compare them.\n",
    "\n",
    "# Filter the dataset for the app \"10 best foods for You\"\n",
    "app_reviews = df_reviews[df_reviews['App'] == '10 Best Foods for You']\n",
    "\n",
    "# Count the number of positive and negative reviews\n",
    "positive_count = app_reviews[app_reviews['Sentiment'] == 'Positive'].shape[0]\n",
    "negative_count = app_reviews[app_reviews['Sentiment'] == 'Negative'].shape[0]\n",
    "neutral_count = app_reviews[app_reviews['Sentiment'] == 'Neutral'].shape[0]\n",
    "\n",
    "# Create labels and counts for the sentiments\n",
    "sentiments = ['Positive', 'Negative', 'Neutral']\n",
    "counts = [positive_count, negative_count, neutral_count]\n",
    "\n",
    "# Plot the pie chart\n",
    "plt.pie(counts, labels=sentiments, autopct='%1.1f%%')\n",
    "plt.title('Sentiment Analysis for App: 10 Best Foods for You')\n",
    "\n",
    "# Display the pie chart\n",
    "plt.show()\n",
    "\n",
    "\n",
    "# Display the counts\n",
    "print(\"Number of positive reviews:\", positive_count)\n",
    "print(\"Number of negative reviews:\", negative_count)\n"
   ]
  },
  {
   "cell_type": "code",
   "execution_count": 175,
   "metadata": {},
   "outputs": [
    {
     "name": "stdout",
     "output_type": "stream",
     "text": [
      "Awesome!!!!\n"
     ]
    }
   ],
   "source": [
    "# Which comments of ASUS SuperNote have sentiment polarity and sentiment subjectivity both as 1?\n",
    "\n",
    "# Filter the dataset for the app \"ASUS SuperNote\"\n",
    "app_reviews = df_reviews[df_reviews['App'] == 'ASUS SuperNote']\n",
    "\n",
    "# Filter for comments with sentiment polarity and subjectivity both equal to 1\n",
    "filtered_reviews = app_reviews[(app_reviews['Sentiment_Polarity'] == 1) & (app_reviews['Sentiment_Subjectivity'] == 1)]\n",
    "\n",
    "# Retrieve the comments\n",
    "comments = filtered_reviews['Translated_Review']\n",
    "\n",
    "# Display the comments\n",
    "for comment in comments:\n",
    "    print(comment)"
   ]
  },
  {
   "cell_type": "code",
   "execution_count": 176,
   "metadata": {},
   "outputs": [
    {
     "name": "stdout",
     "output_type": "stream",
     "text": [
      "I would recommend anyone struggling exercise alone. Be encouraged & get help need.\n",
      "I'm sticking literally kicked booty pain gain\n",
      "Needs work voice tells take break voice keeps going\n",
      "Pop ads middle night!!! Taking phone? F*** app!\n",
      "I day day I saw difference I went XL medium size\n"
     ]
    }
   ],
   "source": [
    "# Get all the neutral sentiment reviews for the app Abs Training-Burn belly fat\n",
    "\n",
    "# Filter the dataset for the app \"Abs Training-Burn belly fat\"\n",
    "app_reviews = df_reviews[df_reviews['App'] == 'Abs Training-Burn belly fat']\n",
    "\n",
    "# Filter for neutral sentiment reviews\n",
    "neutral_reviews = app_reviews[app_reviews['Sentiment'] == 'Neutral']\n",
    "\n",
    "# Retrieve the neutral sentiment reviews\n",
    "neutral_comments = neutral_reviews['Translated_Review']\n",
    "\n",
    "# Display the neutral sentiment reviews\n",
    "for comment in neutral_comments:\n",
    "    print(comment)"
   ]
  },
  {
   "cell_type": "code",
   "execution_count": 177,
   "metadata": {},
   "outputs": [
    {
     "name": "stdout",
     "output_type": "stream",
     "text": [
      "                                      Translated_Review  Sentiment_Polarity  \\\n",
      "4146  Not Another Damn Cloud Account! I want another...           -0.300000   \n",
      "4154  The previous versions good enough.... This upd...           -0.144444   \n",
      "4155  Hey Pls update app.... I'm face issues... When...           -0.012500   \n",
      "4171  Forces account password means Google knowledge...           -0.275000   \n",
      "4186  Not Another Damn Cloud Account! I want another...           -0.300000   \n",
      "4194  The previous versions good enough.... This upd...           -0.144444   \n",
      "4195  Hey Pls update app.... I'm face issues... When...           -0.012500   \n",
      "4211  Forces account password means Google knowledge...           -0.275000   \n",
      "4217  Forces account password means Google knowledge...           -0.275000   \n",
      "4225  Not Another Damn Cloud Account! I want another...           -0.300000   \n",
      "4232  The previous versions good enough.... This upd...           -0.144444   \n",
      "4233  Hey Pls update app.... I'm face issues... When...           -0.012500   \n",
      "4238  Too boring. I'm trying scan document give opti...           -0.300000   \n",
      "4254  After using adobe iphone, version annoying. Do...           -0.200000   \n",
      "4256  Love app. Hate file manager. Open file saved d...           -0.075000   \n",
      "4258  It's difficult select text stupid pg # functio...           -0.575000   \n",
      "4260  It's actually terrible. The biggest flaw retur...           -0.275000   \n",
      "4266  Its like I using ghost...it keeps scrolling pa...           -0.275000   \n",
      "4274  Adobe removed option saving changes pdfs local...           -0.087500   \n",
      "4278  If wish EXPORT, give birthdate!!!! What? A mob...           -0.125000   \n",
      "4279  Does exactly PC based version.Brilliant! At la...           -0.229167   \n",
      "4284  This sux saves cloud. Unless im missing someth...           -0.200000   \n",
      "4287  Stupid app. Whenever I open pdf file making co...           -0.106250   \n",
      "4289  This almost everything I need pdfs unfortunate...           -0.062500   \n",
      "4290  It good app. But problem unable share photos i...           -0.100000   \n",
      "4299               Apparently I log view pdf... Idiotic           -0.308333   \n",
      "4303  Very little usefulness keep getting messages r...           -0.464844   \n",
      "4311  Can't rename documents latest update. Using An...           -0.250000   \n",
      "\n",
      "      Sentiment_Subjectivity  \n",
      "4146                0.700000  \n",
      "4154                0.561111  \n",
      "4155                0.345833  \n",
      "4171                0.566667  \n",
      "4186                0.700000  \n",
      "4194                0.561111  \n",
      "4195                0.345833  \n",
      "4211                0.566667  \n",
      "4217                0.566667  \n",
      "4225                0.700000  \n",
      "4232                0.561111  \n",
      "4233                0.345833  \n",
      "4238                0.488889  \n",
      "4254                0.552381  \n",
      "4256                0.593750  \n",
      "4258                0.900000  \n",
      "4260                0.525000  \n",
      "4266                0.950000  \n",
      "4274                0.520833  \n",
      "4278                0.500000  \n",
      "4279                0.438889  \n",
      "4284                0.050000  \n",
      "4287                0.718750  \n",
      "4289                0.558333  \n",
      "4290                0.533333  \n",
      "4299                0.591667  \n",
      "4303                0.425000  \n",
      "4311                0.933333  \n"
     ]
    }
   ],
   "source": [
    "# Extract all negative sentiment reviews for Adobe Acrobat Reader with their sentiment polarity and sentiment subjectivity\n",
    "\n",
    "# Filter the dataset for the app \"Adobe Acrobat Reader\" and negative sentiment\n",
    "app_reviews = df_reviews[(df_reviews['App'] == 'Adobe Acrobat Reader') & (df_reviews['Sentiment'] == 'Negative')]\n",
    "\n",
    "# Extract the negative sentiment reviews, polarity, and subjectivity\n",
    "negative_reviews = app_reviews[['Translated_Review', 'Sentiment_Polarity', 'Sentiment_Subjectivity']]\n",
    "\n",
    "# Display the negative sentiment reviews\n",
    "print(negative_reviews)"
   ]
  },
  {
   "cell_type": "code",
   "execution_count": null,
   "metadata": {},
   "outputs": [],
   "source": []
  }
 ],
 "metadata": {
  "kernelspec": {
   "display_name": "Python 3",
   "language": "python",
   "name": "python3"
  },
  "language_info": {
   "codemirror_mode": {
    "name": "ipython",
    "version": 3
   },
   "file_extension": ".py",
   "mimetype": "text/x-python",
   "name": "python",
   "nbconvert_exporter": "python",
   "pygments_lexer": "ipython3",
   "version": "3.8.5"
  }
 },
 "nbformat": 4,
 "nbformat_minor": 4
}
